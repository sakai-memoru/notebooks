{
 "cells": [
  {
   "attachments": {},
   "cell_type": "markdown",
   "metadata": {},
   "source": [
    "# Hello, world!! for Autohotkey\n",
    "\n",
    "## overview\n",
    "- First, I try printing \"Hello, world!!\" sentences on Console with AutoHotKey.`"
   ]
  },
  {
   "attachments": {},
   "cell_type": "markdown",
   "metadata": {},
   "source": [
    "## code\n",
    "\n",
    "```ahk\n",
    "#Requires AutoHotkey v2.0\n",
    "\n",
    ";;; global variables\n",
    "Console := FileOpen(\"*\", \"w\")\n",
    "\n",
    ";;; debug method\n",
    "Println(val){\n",
    "    dtm_str := FormatTime(, \"yy-MM-dd HH:mm:ss\")\n",
    "    Console.WriteLine(dtm_str \" > \" val)\n",
    "    return\n",
    "}\n",
    "\n",
    ";;; local functions\n",
    "\n",
    ";;;\n",
    ";;; GetMessage\n",
    ";;; @param {string} name\n",
    ";;; @return {string} message\n",
    ";;;\n",
    "GetMessage(name){\n",
    "  message := \"Hello, \" name \"!!\"\n",
    "  return message\n",
    "}\n",
    "\n",
    "Main(){\n",
    "  ;;; Main function\n",
    "  Println(\"// ----------- // start\")\n",
    "  msg := GetMessage(\"AHK\")\n",
    "  Println(msg)\n",
    "  Println(\"// ----------- // end .\")\n",
    "}\n",
    "\n",
    ";;; entry point\n",
    "Main()\n",
    "```"
   ]
  },
  {
   "cell_type": "code",
   "execution_count": 3,
   "metadata": {
    "dotnet_interactive": {
     "language": "pwsh"
    },
    "polyglot_notebook": {
     "kernelName": "pwsh"
    },
    "vscode": {
     "languageId": "polyglot-notebook"
    }
   },
   "outputs": [
    {
     "name": "stdout",
     "output_type": "stream",
     "text": [
      "23-03-27 09:36:15 > // ----------- // start\n",
      "23-03-27 09:36:15 > Hello, AHK!!\n",
      "23-03-27 09:36:15 > // ----------- // end .\n"
     ]
    }
   ],
   "source": [
    "ahk.exe .\\ahks\\HelloWorld.ahk | Out-Host"
   ]
  }
 ],
 "metadata": {
  "kernelspec": {
   "display_name": "Python 3",
   "language": "python",
   "name": "python3"
  },
  "language_info": {
   "codemirror_mode": {
    "name": "ipython",
    "version": 3
   },
   "file_extension": ".py",
   "mimetype": "text/x-python",
   "name": "python",
   "nbconvert_exporter": "python",
   "pygments_lexer": "ipython3",
   "version": "3.11.2"
  },
  "orig_nbformat": 4
 },
 "nbformat": 4,
 "nbformat_minor": 2
}
